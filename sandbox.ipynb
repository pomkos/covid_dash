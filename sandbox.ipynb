{
 "cells": [
  {
   "cell_type": "code",
   "execution_count": 1,
   "id": "d4fd9530-64ef-46f5-9285-1d6fcb49bd45",
   "metadata": {},
   "outputs": [],
   "source": [
    "import sqlalchemy as sq\n",
    "import pandas as pd"
   ]
  },
  {
   "cell_type": "code",
   "execution_count": 15,
   "id": "288d45f5-5cfc-461f-bf18-5fe564d3f6f2",
   "metadata": {},
   "outputs": [],
   "source": [
    "import seaborn as sns\n",
    "import matplotlib.pyplot as plt"
   ]
  },
  {
   "cell_type": "code",
   "execution_count": 2,
   "id": "f648b7f9",
   "metadata": {},
   "outputs": [],
   "source": [
    "engine = sq.create_engine(\"sqlite:///data/covid_db.sqlite\")\n",
    "cnx = engine.connect()"
   ]
  },
  {
   "cell_type": "code",
   "execution_count": 3,
   "id": "20527508-bdb9-413d-b208-26a6e14bd88f",
   "metadata": {},
   "outputs": [],
   "source": [
    "meta = sq.MetaData()\n",
    "meta.reflect(bind=engine)"
   ]
  },
  {
   "cell_type": "code",
   "execution_count": 4,
   "id": "1756e899-c90f-47ec-9f04-4f30aaf21af7",
   "metadata": {},
   "outputs": [
    {
     "data": {
      "text/plain": [
       "dict_keys(['covid_states', 'covid_world'])"
      ]
     },
     "execution_count": 4,
     "metadata": {},
     "output_type": "execute_result"
    }
   ],
   "source": [
    "meta.tables.keys()"
   ]
  },
  {
   "cell_type": "code",
   "execution_count": 25,
   "id": "ca7edd1a-b88a-46d6-9cb2-ad391ec7ee14",
   "metadata": {},
   "outputs": [],
   "source": [
    "df = pd.read_sql('covid_world',con=cnx)\n",
    "df['date'] = pd.to_datetime(df['date'])"
   ]
  },
  {
   "cell_type": "code",
   "execution_count": 30,
   "id": "e88544e1-5417-45d0-8a86-fb08783d89a8",
   "metadata": {},
   "outputs": [],
   "source": [
    "vax_cols = [col for col in df.columns if 'vacc' in col]\n",
    "cols = ['iso_code', 'continent', 'location', 'date'] + vax_cols"
   ]
  },
  {
   "cell_type": "code",
   "execution_count": 31,
   "id": "a21bdd54-5fc5-43b1-81b3-6d40f94bfdc1",
   "metadata": {},
   "outputs": [
    {
     "data": {
      "text/plain": [
       "['total_vaccinations',\n",
       " 'people_vaccinated',\n",
       " 'people_fully_vaccinated',\n",
       " 'new_vaccinations',\n",
       " 'new_vaccinations_smoothed',\n",
       " 'total_vaccinations_per_hundred',\n",
       " 'people_vaccinated_per_hundred',\n",
       " 'people_fully_vaccinated_per_hundred',\n",
       " 'new_vaccinations_smoothed_per_million']"
      ]
     },
     "execution_count": 31,
     "metadata": {},
     "output_type": "execute_result"
    }
   ],
   "source": [
    "vax_cols"
   ]
  },
  {
   "cell_type": "code",
   "execution_count": 35,
   "id": "1682bca0-94fe-4681-9a90-23b75d6916c6",
   "metadata": {},
   "outputs": [],
   "source": [
    "new_name = {\n",
    "     'people_vaccinated':'one_dose_vaccinated',\n",
    "     'people_fully_vaccinated':'all_doses_vaccinated',\n",
    "     'new_vaccinations':'new_doses_administered',\n",
    "     'new_vaccinations_smoothed':'new_doses_administered_smoothed',\n",
    "     'people_vaccinated_per_hundred':'one_dose_vaccinated_per_hundred',\n",
    "     'people_fully_vaccinated_per_hundred':'all_doses_vaccinated_per_hundred',\n",
    "     'new_vaccinations_smoothed_per_million':'new_doses_administered_smoothed_per_million'\n",
    "}"
   ]
  },
  {
   "cell_type": "markdown",
   "id": "7c8deac5-bb42-4f27-8aa4-e4b580404314",
   "metadata": {},
   "source": [
    "[Source](https://github.com/owid/covid-19-data/blob/master/public/data/owid-covid-codebook.csv) for what the columns represent"
   ]
  },
  {
   "cell_type": "code",
   "execution_count": 36,
   "id": "194be084-9741-49df-a5b3-febb9afae46a",
   "metadata": {},
   "outputs": [],
   "source": [
    "vax_df = df[cols]\n",
    "vax_df = vax_df.rename(new_name, axis=1)"
   ]
  },
  {
   "cell_type": "code",
   "execution_count": 37,
   "id": "c480fb94-3780-4db0-81ad-3a93ad61de3d",
   "metadata": {},
   "outputs": [],
   "source": [
    "small_df = vax_df[(vax_df['location']=='United States') |\n",
    "                  (vax_df['location']=='Canada') |\n",
    "                  (vax_df['location']=='Hungary')\n",
    "                 ]"
   ]
  },
  {
   "cell_type": "code",
   "execution_count": 41,
   "id": "5eb10a8c-7a5e-4f2d-be02-1bb22b2a0a89",
   "metadata": {},
   "outputs": [
    {
     "data": {
      "text/plain": [
       "<AxesSubplot:xlabel='date', ylabel='one_dose_vaccinated_per_hundred'>"
      ]
     },
     "execution_count": 41,
     "metadata": {},
     "output_type": "execute_result"
    },
    {
     "data": {
      "image/png": "[encoded data removed]",
      "text/plain": [
       "<Figure size 432x288 with 1 Axes>"
      ]
     },
     "metadata": {
      "needs_background": "light"
     },
     "output_type": "display_data"
    }
   ],
   "source": [
    "sns.lineplot(x='date',y='one_dose_vaccinated_per_hundred', \n",
    "             data=small_df, \n",
    "             hue='location')"
   ]
  },
  {
   "cell_type": "code",
   "execution_count": null,
   "id": "1d7138a6-69a2-4ba2-974a-c16b9881af6c",
   "metadata": {},
   "outputs": [],
   "source": []
  }
 ],
 "metadata": {
  "kernelspec": {
   "display_name": "Data Env",
   "language": "python",
   "name": "data_env"
  },
  "language_info": {
   "codemirror_mode": {
    "name": "ipython",
    "version": 3
   },
   "file_extension": ".py",
   "mimetype": "text/x-python",
   "name": "python",
   "nbconvert_exporter": "python",
   "pygments_lexer": "ipython3",
   "version": "3.8.2"
  }
 },
 "nbformat": 4,
 "nbformat_minor": 5
}
