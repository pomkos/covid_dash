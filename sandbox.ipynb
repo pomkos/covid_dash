{
 "cells": [
  {
   "cell_type": "code",
   "execution_count": 1,
   "metadata": {},
   "outputs": [],
   "source": [
    "import sqlalchemy as sq\n",
    "import pandas as pd"
   ]
  },
  {
   "cell_type": "code",
   "execution_count": 2,
   "metadata": {},
   "outputs": [],
   "source": [
    "import seaborn as sns\n",
    "import matplotlib.pyplot as plt"
   ]
  },
  {
   "cell_type": "code",
   "execution_count": 3,
   "metadata": {},
   "outputs": [],
   "source": [
    "engine = sq.create_engine(\"sqlite:///data/covid_db.sqlite\")\n",
    "cnx = engine.connect()"
   ]
  },
  {
   "cell_type": "code",
   "execution_count": 4,
   "metadata": {},
   "outputs": [],
   "source": [
    "meta = sq.MetaData()\n",
    "meta.reflect(bind=engine)"
   ]
  },
  {
   "cell_type": "code",
   "execution_count": 5,
   "metadata": {},
   "outputs": [
    {
     "data": {
      "text/plain": [
       "dict_keys(['covid_states', 'covid_world'])"
      ]
     },
     "execution_count": 5,
     "metadata": {},
     "output_type": "execute_result"
    }
   ],
   "source": [
    "meta.tables.keys()"
   ]
  },
  {
   "cell_type": "code",
   "execution_count": 6,
   "metadata": {},
   "outputs": [],
   "source": [
    "df = pd.read_sql('covid_states',con=cnx)\n",
    "df['date'] = pd.to_datetime(df['date'])"
   ]
  },
  {
   "cell_type": "code",
   "execution_count": 7,
   "metadata": {},
   "outputs": [
    {
     "name": "stdout",
     "output_type": "stream",
     "text": [
      "<class 'pandas.core.frame.DataFrame'>\n",
      "RangeIndex: 21694 entries, 0 to 21693\n",
      "Data columns (total 14 columns):\n",
      " #   Column                              Non-Null Count  Dtype         \n",
      "---  ------                              --------------  -----         \n",
      " 0   date                                21694 non-null  datetime64[ns]\n",
      " 1   state                               21694 non-null  object        \n",
      " 2   fips                                21694 non-null  int64         \n",
      " 3   cases                               21694 non-null  int64         \n",
      " 4   deaths                              21694 non-null  int64         \n",
      " 5   pop                                 21694 non-null  int64         \n",
      " 6   new_cases                           21642 non-null  float64       \n",
      " 7   weekly_rolling_new_cases            21330 non-null  float64       \n",
      " 8   new_deaths                          21642 non-null  float64       \n",
      " 9   weekly_rolling_new_deaths           21330 non-null  float64       \n",
      " 10  cases_per_100k                      21694 non-null  float64       \n",
      " 11  deaths_per_100k                     21694 non-null  float64       \n",
      " 12  weekly_rolling_new_cases_per_100k   21330 non-null  float64       \n",
      " 13  weekly_rolling_new_deaths_per_100k  21330 non-null  float64       \n",
      "dtypes: datetime64[ns](1), float64(8), int64(4), object(1)\n",
      "memory usage: 2.3+ MB\n"
     ]
    }
   ],
   "source": [
    "df.info()"
   ]
  },
  {
   "cell_type": "code",
   "execution_count": 11,
   "metadata": {},
   "outputs": [],
   "source": [
    "vax_cols = [col for col in df.columns if 'vacc' in col]\n",
    "cols = ['iso_code', 'continent', 'location', 'date'] + vax_cols"
   ]
  },
  {
   "cell_type": "code",
   "execution_count": 12,
   "metadata": {},
   "outputs": [
    {
     "data": {
      "text/plain": [
       "['total_vaccinations',\n",
       " 'one_dose_vaccinated',\n",
       " 'all_doses_vaccinated',\n",
       " 'total_vaccinations_per_hundred',\n",
       " 'one_dose_vaccinated_per_hundred',\n",
       " 'all_doses_vaccinated_per_hundred']"
      ]
     },
     "execution_count": 12,
     "metadata": {},
     "output_type": "execute_result"
    }
   ],
   "source": [
    "vax_cols"
   ]
  },
  {
   "cell_type": "code",
   "execution_count": 13,
   "metadata": {},
   "outputs": [],
   "source": [
    "new_name = {\n",
    "     'people_vaccinated':'one_dose_vaccinated',\n",
    "     'people_fully_vaccinated':'all_doses_vaccinated',\n",
    "     'new_vaccinations':'new_doses_administered',\n",
    "     'new_vaccinations_smoothed':'new_doses_administered_smoothed',\n",
    "     'people_vaccinated_per_hundred':'one_dose_vaccinated_per_hundred',\n",
    "     'people_fully_vaccinated_per_hundred':'all_doses_vaccinated_per_hundred',\n",
    "     'new_vaccinations_smoothed_per_million':'new_doses_administered_smoothed_per_million'\n",
    "}"
   ]
  },
  {
   "cell_type": "markdown",
   "metadata": {},
   "source": [
    "[Source](https://github.com/owid/covid-19-data/blob/master/public/data/owid-covid-codebook.csv) for what the columns represent"
   ]
  },
  {
   "cell_type": "code",
   "execution_count": 14,
   "metadata": {},
   "outputs": [],
   "source": [
    "vax_df = df[cols]\n",
    "vax_df = vax_df.rename(new_name, axis=1)"
   ]
  },
  {
   "cell_type": "code",
   "execution_count": 15,
   "metadata": {},
   "outputs": [],
   "source": [
    "small_df = vax_df[(vax_df['location']=='United States') |\n",
    "                  (vax_df['location']=='Canada') |\n",
    "                  (vax_df['location']=='Hungary')\n",
    "                 ]"
   ]
  },
  {
   "cell_type": "code",
   "execution_count": 16,
   "metadata": {},
   "outputs": [
    {
     "data": {
      "text/plain": [
       "<AxesSubplot:xlabel='date', ylabel='one_dose_vaccinated_per_hundred'>"
      ]
     },
     "execution_count": 16,
     "metadata": {},
     "output_type": "execute_result"
    },
    {
     "data": {
      "image/png": "[encoded data removed]",
      "text/plain": [
       "<Figure size 432x288 with 1 Axes>"
      ]
     },
     "metadata": {
      "needs_background": "light"
     },
     "output_type": "display_data"
    }
   ],
   "source": [
    "sns.lineplot(x='date',y='one_dose_vaccinated_per_hundred', \n",
    "             data=small_df, \n",
    "             hue='location')"
   ]
  },
  {
   "cell_type": "code",
   "execution_count": null,
   "metadata": {},
   "outputs": [],
   "source": []
  }
 ],
 "metadata": {
  "kernelspec": {
   "display_name": "Data Env",
   "language": "python",
   "name": "data_env"
  },
  "language_info": {
   "codemirror_mode": {
    "name": "ipython",
    "version": 3
   },
   "file_extension": ".py",
   "mimetype": "text/x-python",
   "name": "python",
   "nbconvert_exporter": "python",
   "pygments_lexer": "ipython3",
   "version": "3.6.12"
  }
 },
 "nbformat": 4,
 "nbformat_minor": 5
}
